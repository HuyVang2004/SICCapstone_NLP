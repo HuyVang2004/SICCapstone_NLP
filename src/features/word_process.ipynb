{
 "cells": [
  {
   "cell_type": "code",
   "execution_count": 29,
   "metadata": {},
   "outputs": [],
   "source": [
    "import pandas as pd\n",
    "import string\n",
    "from underthesea import word_tokenize\n",
    "import re\n",
    "from concurrent.futures import ThreadPoolExecutor"
   ]
  },
  {
   "cell_type": "code",
   "execution_count": 30,
   "metadata": {},
   "outputs": [],
   "source": [
    "def load_stopwords(filepath):\n",
    "    with open(filepath, \"r\", encoding=\"utf-8\") as file:\n",
    "        return set(file.read().splitlines())\n",
    "\n",
    "vietnamese_stopwords = load_stopwords(\"../../data/raw/vietnamese-stopwords.txt\")\n",
    "\n",
    "def remove_punctuation(text):\n",
    "    return text.translate(str.maketrans(' ', ' ', string.punctuation))\n",
    "\n",
    "def delete_stopwords_and_clean(doc):\n",
    "    \n",
    "    tokens = word_tokenize(remove_punctuation(doc))\n",
    "    filtered_tokens = [word.lower() for word in tokens if word.lower() not in vietnamese_stopwords and not word.lower().startswith('http')]\n",
    "    \n",
    "    # Loại bỏ ký tự đặc biệt và số \n",
    "    processed_words = [re.sub(r'[^\\w\\s]', ' ', word).strip() for word in filtered_tokens if not re.search(r'\\d', word)]\n",
    "    # Loại bỏ '\\t', '\\n', ...\n",
    "    processed_words = [re.sub(r'\\s+', ' ', word).strip() for word in processed_words if word]\n",
    "\n",
    "    seen = set()\n",
    "    unique_words = []\n",
    "    for word in processed_words:\n",
    "        if word not in seen and word != ' ':\n",
    "            unique_words.append(word)\n",
    "            seen.add(word)\n",
    "\n",
    "    return unique_words\n",
    "\n"
   ]
  },
  {
   "cell_type": "code",
   "execution_count": 31,
   "metadata": {},
   "outputs": [],
   "source": [
    "def process_train_test(args):  # get_text = True lấy nội dung bài báo, get_text = False lấy tiêu đề\n",
    "    option, get_text = args\n",
    "    if get_text:\n",
    "        dir = 'Text'\n",
    "    else:\n",
    "        dir = 'Title'\n",
    "\n",
    "    data_train = pd.read_csv(f'../../data/processed/{dir}/{option}_train.csv')\n",
    "    data_test = pd.read_csv(f'../../data/processed/{dir}/{option}_test.csv')\n",
    "    processed_docs_train = [delete_stopwords_and_clean(doc) for doc in data_train[dir].values]\n",
    "    processed_docs_test = [delete_stopwords_and_clean(doc) for doc in data_test[dir].values]\n",
    "\n",
    "    data_train['Words'] = processed_docs_train\n",
    "    data_test['Words'] = processed_docs_test\n",
    "\n",
    "    data_train.to_csv(f'../../data/cleaned/{dir}/{option}_processed_train.csv', index=False)\n",
    "    data_test.to_csv(f'../../data/cleaned/{dir}/{option}_processed_test.csv', index=False)\n",
    "    print(\"Check\")\n"
   ]
  },
  {
   "cell_type": "code",
   "execution_count": 32,
   "metadata": {},
   "outputs": [
    {
     "name": "stdout",
     "output_type": "stream",
     "text": [
      "Check\n",
      "Check\n",
      "Check\n",
      "Check\n"
     ]
    }
   ],
   "source": [
    "options = ['Near', 'Mid', 'Far', 'Potential']\n",
    "get_text = False \n",
    "\n",
    "with ThreadPoolExecutor() as executor:\n",
    "    executor.map(process_train_test, [(option, get_text) for option in options])"
   ]
  }
 ],
 "metadata": {
  "kernelspec": {
   "display_name": ".env",
   "language": "python",
   "name": "python3"
  },
  "language_info": {
   "codemirror_mode": {
    "name": "ipython",
    "version": 3
   },
   "file_extension": ".py",
   "mimetype": "text/x-python",
   "name": "python",
   "nbconvert_exporter": "python",
   "pygments_lexer": "ipython3",
   "version": "3.11.5"
  }
 },
 "nbformat": 4,
 "nbformat_minor": 2
}
